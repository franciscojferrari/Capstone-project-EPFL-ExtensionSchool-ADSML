{
 "cells": [
  {
   "cell_type": "markdown",
   "metadata": {},
   "source": [
    "# Capstone proposal by Francisco Ferrari\n",
    "\n",
    "# Tobacco Cast-Leaf image processing for the dectection of imperfections in the manufacturing process"
   ]
  },
  {
   "cell_type": "markdown",
   "metadata": {},
   "source": [
    "## 1) The problem"
   ]
  },
  {
   "cell_type": "markdown",
   "metadata": {},
   "source": [
    "<p>For almost a decade Philip Morris Internation (PMI) has been transforming itself and staking its future on replacing cigarettes with smoke-free alternatives.&nbsp;One of these alternatives is heated tobacco products. Heating tobacco releases flavors and nicotine and allows adult smokers to enjoy tobacco without combustion.</p>\n",
    "<p>Our main product for heated tobacco is IQOS. It uses an electronically controlled heater to release flavors and nicotine. It has 2 main components: a heated tobacco unit (HEETS) and an IQOS holder and charger. It works by inserting the heated tobacco unit into the&nbsp;<em>IQOS</em>&nbsp;holder, which contains an electronically controlled heater.<br />For more information about IQOS and how it works please click <a href=\"https://www.pmi.com/smoke-free-products/iqos-our-tobacco-heating-system\">here.</a></p>\n",
    "<p>For this project, we are interested in looking at the transformation that PMI had to do in its manufacturing process in order to produce HEETS. HEETS contains a uniquely processed tobacco plug designed for heating, not for smoking. The tobacco plug is made from tobacco leaves, which are ground and re-constituted into tobacco sheets, called cast-leaf.&nbsp;</p>\n",
    "<p>In the manufacturing process of tobacco cast-leaf there is the possibility of generating pores and imperfections (dishomogeneities) that reduces the quality of our product and has a negative impact on our consumers.<br />The way to detect these manufacturing imperfections is a really manual process that requires the presence of an expert on-site on the factory. This has a high impact on the cost of the quality process and it is seen as non-objective quality control for the FDA.</p>\n",
    "<p>In this project, I would like to automatize the process for the detection of pores and dishomogeneities and be able to classify and predict if a sample from a batch of cast-leaf is deemed of good quality or not. Moreover, if the model is successful in predicting if a sample is good or not introduce it in the manufacturing quality control procedure.</p>"
   ]
  },
  {
   "cell_type": "markdown",
   "metadata": {},
   "source": [
    "## 2) The data\n",
    "\n",
    "### (a) Clear overview of your data"
   ]
  },
  {
   "cell_type": "markdown",
   "metadata": {},
   "source": [
    "<p>The data are images of the cast-leaf taken under the microscope on the manufacturing site.<br />The images have been labeled and perilously analyzed by an expert to identify if batches are of good quality or not. Images are taken under strict working instruction with constant illumination and magnification. These images will be the ones used for this project.</p>\n",
    "<p>In the image below you can appreciate how the sample images are captured at the manufacturing site:</p>\n",
    "<p><img style=\"display: block; margin-left: auto; margin-right: auto;\" src=\"./images/how-cast-leaf-images-are-taken.png\" alt=\"\" width=\"566\" height=\"423\" /></p>\n",
    "<p>&nbsp;</p>\n",
    "<p><strong>We have a total of 489 images already classified by our subject matter expert if the sample tobacco cast-leaf deemed good or not.</strong></p>\n",
    "<p>We can divide the data into train (70%), test (20%) and validate (10%) sets.</p>\n",
    "<p>Each image is 1194 &times; 1194 pixels in size.</p>\n",
    "<p>The images below are a sample of the set of images of tobacco cast-leaf under the microscope and the data that will be analysed and used to construct and train a model.</p>\n",
    "\n",
    "<table style=\"border-collapse: collapse; width: 100%;\" border=\"1\">\n",
    "  <tbody>\n",
    "    <tr>\n",
    "      <td style=\"width: 50%;\"><img style=\"float: left;\" src=\"./images/cast-leaf-example.png\" alt=\"\" width=\"429\" height=\"428\" /></td>\n",
    "      <td style=\"width: 50%;\"><img style=\"float: left;\" src=\"./images/cast-leaf-example-2.jpg\" alt=\"\" width=\"429\" height=\"428\" /></td>\n",
    "    </tr>\n",
    "  </tbody>\n",
    "</table>\n"
   ]
  },
  {
   "cell_type": "markdown",
   "metadata": {},
   "source": [
    "### (b) Plan to manage and process the data"
   ]
  },
  {
   "cell_type": "markdown",
   "metadata": {},
   "source": [
    "The initial plan would be to extract from the sample set of images the set of features that will be used for the clasification."
   ]
  },
  {
   "cell_type": "markdown",
   "metadata": {},
   "source": [
    "## 3) Exploratory data analysis (EDA)"
   ]
  },
  {
   "cell_type": "markdown",
   "metadata": {},
   "source": [
    "### (a) Preliminary EDA"
   ]
  },
  {
   "cell_type": "markdown",
   "metadata": {},
   "source": [
    "For this project the necessity of an EDA will reduced due to the fact that we have a subject matter expert that shared his knowledge and provied that the number of pores, the dishomogeneities (aggregations) and the colors in the images are the elements that we should take in consideration to predict if a sample of cast-leaf is of good quality or not.\n",
    "\n",
    "What we will have to do though is the processing of the images in order to extract these features in a way that could be used in an algorith.  "
   ]
  },
  {
   "cell_type": "markdown",
   "metadata": {},
   "source": [
    "### (b) How does the EDA inform your project plan?"
   ]
  },
  {
   "cell_type": "markdown",
   "metadata": {},
   "source": [
    "It is manly to validate if the data is good or not."
   ]
  },
  {
   "cell_type": "markdown",
   "metadata": {},
   "source": [
    "### (c) What further EDA do you plan for project?"
   ]
  },
  {
   "cell_type": "markdown",
   "metadata": {},
   "source": [
    "I will analyise the images in order to extract the number of pores, the aggregration zones and the color values for each pixel.\n",
    "\n",
    "The necessity to expand the EDA will depend on the feedback of the subject mater expert."
   ]
  },
  {
   "cell_type": "markdown",
   "metadata": {},
   "source": [
    "## 4) Machine learning "
   ]
  },
  {
   "cell_type": "markdown",
   "metadata": {},
   "source": [
    "### (a) Phrase your project goal as a clear machine learning question"
   ]
  },
  {
   "cell_type": "markdown",
   "metadata": {},
   "source": [
    "The main objective of this project will be the pre-processing of images taken from tobacco cast-leaf to generate the features that will feed the clasification algorithm that will predict if the sample taken from a batch of cast-leaf has a high probability of being of bad quality."
   ]
  },
  {
   "cell_type": "markdown",
   "metadata": {},
   "source": [
    "### (b) What models are you planning to use and why?\n",
    "### (c) Please tell us your detailed machine learning strategy "
   ]
  },
  {
   "cell_type": "markdown",
   "metadata": {},
   "source": [
    "For the processessing we can use:\n",
    "-  K-means to reduce the variability of the colors and have a sharper variation of colors. The centroid generated will be also one of the features used for the classification algorithm.\n",
    "- KNN to classify each pixel if it is a pore, an aggregation or a zone deemed good.\n",
    "<br>\n",
    "\n",
    "For final classification we potentionally can use:\n",
    "- Random forest \n",
    "- Decision tree\n",
    "- SVM\n",
    "<br>\n",
    "\n",
    "These are the most common classification algorithms and also the ones we learnt in the course and the idea would be to test the performance of them.\n",
    "<br>\n",
    "\n",
    "I haven't considered the use of a nural-network for the classificaiton given that the amount of data is small and limited, and the implementation of it probably will not yield a better result.\n"
   ]
  },
  {
   "cell_type": "code",
   "execution_count": null,
   "metadata": {},
   "outputs": [],
   "source": []
  }
 ],
 "metadata": {
  "kernelspec": {
   "display_name": "Python 3",
   "language": "python",
   "name": "python3"
  },
  "language_info": {
   "codemirror_mode": {
    "name": "ipython",
    "version": 3
   },
   "file_extension": ".py",
   "mimetype": "text/x-python",
   "name": "python",
   "nbconvert_exporter": "python",
   "pygments_lexer": "ipython3",
   "version": "3.7.4"
  }
 },
 "nbformat": 4,
 "nbformat_minor": 4
}
