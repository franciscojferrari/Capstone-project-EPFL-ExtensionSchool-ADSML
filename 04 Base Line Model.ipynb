{
 "cells": [
  {
   "cell_type": "code",
   "execution_count": 1,
   "metadata": {},
   "outputs": [],
   "source": [
    "import numpy as np\n",
    "import pandas as pd\n",
    "import warnings\n",
    "warnings.filterwarnings('ignore')\n",
    "\n",
    "from sklearn.model_selection import train_test_split\n",
    "from sklearn.pipeline import Pipeline\n",
    "from sklearn.preprocessing import StandardScaler\n",
    "from sklearn.preprocessing import MinMaxScaler"
   ]
  },
  {
   "cell_type": "code",
   "execution_count": 24,
   "metadata": {},
   "outputs": [
    {
     "data": {
      "text/plain": [
       "['Porosity & Aggregations']"
      ]
     },
     "execution_count": 24,
     "metadata": {},
     "output_type": "execute_result"
    }
   ],
   "source": [
    "from os import listdir\n",
    "from os.path import isfile, join\n",
    "onlyfiles = [f for f in listdir(\".\") if isfile(join(\".\", f))]\n",
    "\".\".join(onlyfiles[0].split(\".\")[:-1])"
   ]
  },
  {
   "cell_type": "markdown",
   "metadata": {},
   "source": [
    "## Load the Data and split in Train and Test Datasets"
   ]
  },
  {
   "cell_type": "code",
   "execution_count": 7,
   "metadata": {},
   "outputs": [],
   "source": [
    "df_final = pd.read_excel('Final Dataset.xlsx', sheet_name='data')\n",
    "\n",
    "features = df_final[['n_pores', 'median_log_pores', 'n_agg', 'median_log_agg', 'r', 'g', 'b']]\n",
    "img_name = df_final.iloc[:,1:2]\n",
    "\n",
    "spec = df_final.iloc[:,0:1]\n",
    "spec = spec.replace({'in-spec':1, 'out-of-spec':0})\n",
    "\n",
    "\n",
    "f_tr, f_te, c_tr, c_te = train_test_split(\n",
    "    features, spec, test_size=0.3, stratify=spec, random_state=1)\n"
   ]
  },
  {
   "cell_type": "code",
   "execution_count": 8,
   "metadata": {},
   "outputs": [
    {
     "data": {
      "text/html": [
       "<div>\n",
       "<style scoped>\n",
       "    .dataframe tbody tr th:only-of-type {\n",
       "        vertical-align: middle;\n",
       "    }\n",
       "\n",
       "    .dataframe tbody tr th {\n",
       "        vertical-align: top;\n",
       "    }\n",
       "\n",
       "    .dataframe thead th {\n",
       "        text-align: right;\n",
       "    }\n",
       "</style>\n",
       "<table border=\"1\" class=\"dataframe\">\n",
       "  <thead>\n",
       "    <tr style=\"text-align: right;\">\n",
       "      <th></th>\n",
       "      <th>n_pores</th>\n",
       "      <th>median_log_pores</th>\n",
       "      <th>n_agg</th>\n",
       "      <th>median_log_agg</th>\n",
       "      <th>r</th>\n",
       "      <th>g</th>\n",
       "      <th>b</th>\n",
       "    </tr>\n",
       "  </thead>\n",
       "  <tbody>\n",
       "    <tr>\n",
       "      <th>0</th>\n",
       "      <td>39</td>\n",
       "      <td>3.806662</td>\n",
       "      <td>194</td>\n",
       "      <td>4.997189</td>\n",
       "      <td>103</td>\n",
       "      <td>35</td>\n",
       "      <td>6</td>\n",
       "    </tr>\n",
       "    <tr>\n",
       "      <th>1</th>\n",
       "      <td>28</td>\n",
       "      <td>3.481122</td>\n",
       "      <td>231</td>\n",
       "      <td>5.231109</td>\n",
       "      <td>104</td>\n",
       "      <td>35</td>\n",
       "      <td>6</td>\n",
       "    </tr>\n",
       "    <tr>\n",
       "      <th>2</th>\n",
       "      <td>26</td>\n",
       "      <td>3.258097</td>\n",
       "      <td>210</td>\n",
       "      <td>5.043342</td>\n",
       "      <td>100</td>\n",
       "      <td>33</td>\n",
       "      <td>5</td>\n",
       "    </tr>\n",
       "    <tr>\n",
       "      <th>3</th>\n",
       "      <td>29</td>\n",
       "      <td>3.610918</td>\n",
       "      <td>229</td>\n",
       "      <td>5.283204</td>\n",
       "      <td>106</td>\n",
       "      <td>36</td>\n",
       "      <td>6</td>\n",
       "    </tr>\n",
       "    <tr>\n",
       "      <th>4</th>\n",
       "      <td>24</td>\n",
       "      <td>3.174569</td>\n",
       "      <td>238</td>\n",
       "      <td>4.966280</td>\n",
       "      <td>102</td>\n",
       "      <td>34</td>\n",
       "      <td>6</td>\n",
       "    </tr>\n",
       "    <tr>\n",
       "      <th>...</th>\n",
       "      <td>...</td>\n",
       "      <td>...</td>\n",
       "      <td>...</td>\n",
       "      <td>...</td>\n",
       "      <td>...</td>\n",
       "      <td>...</td>\n",
       "      <td>...</td>\n",
       "    </tr>\n",
       "    <tr>\n",
       "      <th>484</th>\n",
       "      <td>1</td>\n",
       "      <td>3.583519</td>\n",
       "      <td>906</td>\n",
       "      <td>4.804021</td>\n",
       "      <td>102</td>\n",
       "      <td>31</td>\n",
       "      <td>5</td>\n",
       "    </tr>\n",
       "    <tr>\n",
       "      <th>485</th>\n",
       "      <td>3</td>\n",
       "      <td>2.639057</td>\n",
       "      <td>867</td>\n",
       "      <td>4.663439</td>\n",
       "      <td>102</td>\n",
       "      <td>31</td>\n",
       "      <td>5</td>\n",
       "    </tr>\n",
       "    <tr>\n",
       "      <th>486</th>\n",
       "      <td>1</td>\n",
       "      <td>2.639057</td>\n",
       "      <td>1013</td>\n",
       "      <td>4.574711</td>\n",
       "      <td>97</td>\n",
       "      <td>29</td>\n",
       "      <td>4</td>\n",
       "    </tr>\n",
       "    <tr>\n",
       "      <th>487</th>\n",
       "      <td>4</td>\n",
       "      <td>3.193440</td>\n",
       "      <td>895</td>\n",
       "      <td>4.718499</td>\n",
       "      <td>100</td>\n",
       "      <td>31</td>\n",
       "      <td>4</td>\n",
       "    </tr>\n",
       "    <tr>\n",
       "      <th>488</th>\n",
       "      <td>7</td>\n",
       "      <td>3.044522</td>\n",
       "      <td>883</td>\n",
       "      <td>4.753590</td>\n",
       "      <td>101</td>\n",
       "      <td>31</td>\n",
       "      <td>4</td>\n",
       "    </tr>\n",
       "  </tbody>\n",
       "</table>\n",
       "<p>489 rows × 7 columns</p>\n",
       "</div>"
      ],
      "text/plain": [
       "     n_pores  median_log_pores  n_agg  median_log_agg    r   g  b\n",
       "0         39          3.806662    194        4.997189  103  35  6\n",
       "1         28          3.481122    231        5.231109  104  35  6\n",
       "2         26          3.258097    210        5.043342  100  33  5\n",
       "3         29          3.610918    229        5.283204  106  36  6\n",
       "4         24          3.174569    238        4.966280  102  34  6\n",
       "..       ...               ...    ...             ...  ...  .. ..\n",
       "484        1          3.583519    906        4.804021  102  31  5\n",
       "485        3          2.639057    867        4.663439  102  31  5\n",
       "486        1          2.639057   1013        4.574711   97  29  4\n",
       "487        4          3.193440    895        4.718499  100  31  4\n",
       "488        7          3.044522    883        4.753590  101  31  4\n",
       "\n",
       "[489 rows x 7 columns]"
      ]
     },
     "execution_count": 8,
     "metadata": {},
     "output_type": "execute_result"
    }
   ],
   "source": [
    "features"
   ]
  },
  {
   "cell_type": "markdown",
   "metadata": {},
   "source": [
    "# Baseline Model: \"Most Frequent\""
   ]
  },
  {
   "cell_type": "code",
   "execution_count": 9,
   "metadata": {},
   "outputs": [
    {
     "name": "stdout",
     "output_type": "stream",
     "text": [
      "Accuracy of Baseline Model (Most Frequent): 55.10%\n"
     ]
    }
   ],
   "source": [
    "from sklearn.dummy import DummyClassifier\n",
    "\n",
    "pipe_base_classifier= Pipeline([\n",
    "    ('scaler', MinMaxScaler()),\n",
    "    ('DummyClassifier', DummyClassifier(strategy=\"most_frequent\")\n",
    "    )])\n",
    "\n",
    "# Fit to train data\n",
    "pipe_base_classifier.fit(f_tr, c_tr)\n",
    "\n",
    "# Evaluate on test set\n",
    "accuracy = pipe_base_classifier.score(f_te, c_te)\n",
    "\n",
    "print('Accuracy of Baseline Model (Most Frequent): {:.2f}%'.format(accuracy * 100))"
   ]
  },
  {
   "cell_type": "code",
   "execution_count": null,
   "metadata": {},
   "outputs": [],
   "source": []
  }
 ],
 "metadata": {
  "kernelspec": {
   "display_name": "Python 3",
   "language": "python",
   "name": "python3"
  },
  "language_info": {
   "codemirror_mode": {
    "name": "ipython",
    "version": 3
   },
   "file_extension": ".py",
   "mimetype": "text/x-python",
   "name": "python",
   "nbconvert_exporter": "python",
   "pygments_lexer": "ipython3",
   "version": "3.8.5"
  }
 },
 "nbformat": 4,
 "nbformat_minor": 4
}
