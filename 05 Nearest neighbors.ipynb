{
 "cells": [
  {
   "cell_type": "code",
   "execution_count": 1,
   "metadata": {},
   "outputs": [],
   "source": [
    "import numpy as np\n",
    "import pandas as pd\n",
    "import warnings\n",
    "warnings.filterwarnings('ignore')\n",
    "\n",
    "from sklearn.model_selection import train_test_split\n",
    "from sklearn.preprocessing import StandardScaler\n",
    "from sklearn.pipeline import Pipeline\n",
    "from sklearn.neighbors import KNeighborsClassifier\n",
    "import seaborn as sns\n",
    "import matplotlib.pyplot as plt\n",
    "from sklearn.preprocessing import MinMaxScaler\n",
    "\n"
   ]
  },
  {
   "cell_type": "markdown",
   "metadata": {},
   "source": [
    "## Load the Data and split in Train and Test Datasets"
   ]
  },
  {
   "cell_type": "code",
   "execution_count": 14,
   "metadata": {},
   "outputs": [],
   "source": [
    "df_final = pd.read_excel('Final Dataset.xlsx', sheet_name='data')\n",
    "\n",
    "features = df_final[['n_pores', 'median_log_pores', 'n_agg', 'median_log_agg', 'r', 'g', 'b']]\n",
    "img_name = df_final.iloc[:,1:2]\n",
    "\n",
    "spec = df_final.iloc[:,0:1]\n",
    "spec = spec.replace({'in-spec':1, 'out-of-spec':0})\n",
    "\n",
    "\n",
    "f_tr, f_te, c_tr, c_te = train_test_split(\n",
    "    features, spec, test_size=0.3, stratify=spec, random_state=1)\n",
    "\n",
    "# # We split the train set in train and validate\n",
    "f_tr, f_va, c_tr, c_va = train_test_split(\n",
    "    f_tr, c_tr, test_size=0.1,stratify=c_tr, random_state=1)"
   ]
  },
  {
   "cell_type": "code",
   "execution_count": null,
   "metadata": {},
   "outputs": [],
   "source": []
  },
  {
   "cell_type": "code",
   "execution_count": 3,
   "metadata": {},
   "outputs": [
    {
     "data": {
      "text/html": [
       "<div>\n",
       "<style scoped>\n",
       "    .dataframe tbody tr th:only-of-type {\n",
       "        vertical-align: middle;\n",
       "    }\n",
       "\n",
       "    .dataframe tbody tr th {\n",
       "        vertical-align: top;\n",
       "    }\n",
       "\n",
       "    .dataframe thead th {\n",
       "        text-align: right;\n",
       "    }\n",
       "</style>\n",
       "<table border=\"1\" class=\"dataframe\">\n",
       "  <thead>\n",
       "    <tr style=\"text-align: right;\">\n",
       "      <th></th>\n",
       "      <th>n neighbors</th>\n",
       "      <th>distance metric</th>\n",
       "      <th>validation accuracy (validation set)</th>\n",
       "      <th>validation accuracy (training set)</th>\n",
       "    </tr>\n",
       "  </thead>\n",
       "  <tbody>\n",
       "    <tr>\n",
       "      <th>0</th>\n",
       "      <td>1</td>\n",
       "      <td>1</td>\n",
       "      <td>0.771429</td>\n",
       "      <td>1.000000</td>\n",
       "    </tr>\n",
       "    <tr>\n",
       "      <th>1</th>\n",
       "      <td>1</td>\n",
       "      <td>2</td>\n",
       "      <td>0.771429</td>\n",
       "      <td>1.000000</td>\n",
       "    </tr>\n",
       "    <tr>\n",
       "      <th>2</th>\n",
       "      <td>6</td>\n",
       "      <td>1</td>\n",
       "      <td>0.771429</td>\n",
       "      <td>0.859935</td>\n",
       "    </tr>\n",
       "    <tr>\n",
       "      <th>3</th>\n",
       "      <td>6</td>\n",
       "      <td>2</td>\n",
       "      <td>0.771429</td>\n",
       "      <td>0.872964</td>\n",
       "    </tr>\n",
       "    <tr>\n",
       "      <th>4</th>\n",
       "      <td>11</td>\n",
       "      <td>1</td>\n",
       "      <td>0.771429</td>\n",
       "      <td>0.846906</td>\n",
       "    </tr>\n",
       "  </tbody>\n",
       "</table>\n",
       "</div>"
      ],
      "text/plain": [
       "   n neighbors  distance metric  validation accuracy (validation set)  \\\n",
       "0            1                1                              0.771429   \n",
       "1            1                2                              0.771429   \n",
       "2            6                1                              0.771429   \n",
       "3            6                2                              0.771429   \n",
       "4           11                1                              0.771429   \n",
       "\n",
       "   validation accuracy (training set)  \n",
       "0                            1.000000  \n",
       "1                            1.000000  \n",
       "2                            0.859935  \n",
       "3                            0.872964  \n",
       "4                            0.846906  "
      ]
     },
     "execution_count": 3,
     "metadata": {},
     "output_type": "execute_result"
    }
   ],
   "source": [
    "# Define the set of values we will iterate\n",
    "k_values = np.arange(1, 100,5) \n",
    "d_types = [1,2] # L1 and L2 distance\n",
    "\n",
    "\n",
    "# Accuracy on the train/test sets\n",
    "# Save accuracy on test set\n",
    "scores = [] \n",
    "\n",
    "for k in k_values:\n",
    "    for d in d_types:\n",
    "        # Set k & p\n",
    "        pipe = Pipeline([\n",
    "#             ('scaler', StandardScaler()),\n",
    "            ('scaler', MinMaxScaler()), #We use the Min Max given for the RGB feature it might not be the best\n",
    "            ('knn', KNeighborsClassifier())\n",
    "        ])\n",
    "        pipe.set_params(knn__n_neighbors = k, knn__p = d)\n",
    "        # Fit k-NN\n",
    "        pipe.fit(f_tr, c_tr)\n",
    "        score = {}\n",
    "        score['n neighbors'] = k\n",
    "        score['distance metric'] = d\n",
    "        score['validation accuracy (validation set)'] = pipe.score(f_va, c_va)\n",
    "        score['validation accuracy (training set)'] = pipe.score(f_tr, c_tr)\n",
    "        scores.append(score)\n",
    "        \n",
    "scores_df = pd.DataFrame(scores)\n",
    "scores_df.head(5)"
   ]
  },
  {
   "cell_type": "markdown",
   "metadata": {},
   "source": [
    "## Plot the train and Validation accuracy "
   ]
  },
  {
   "cell_type": "code",
   "execution_count": 4,
   "metadata": {},
   "outputs": [
    {
     "data": {
      "text/plain": [
       "<matplotlib.axes._subplots.AxesSubplot at 0x1a1c591f90>"
      ]
     },
     "execution_count": 4,
     "metadata": {},
     "output_type": "execute_result"
    },
    {
     "data": {
      "image/png": "[encoded data removed]",
      "text/plain": [
       "<Figure size 720x720 with 1 Axes>"
      ]
     },
     "metadata": {
      "needs_background": "light"
     },
     "output_type": "display_data"
    }
   ],
   "source": [
    "fig, ax = plt.subplots(1,1, figsize=(10,10))\n",
    "sns.lineplot(x='n neighbors', y='value',\n",
    "             hue='variable', style=\"distance metric\",  data = pd.melt(scores_df, ['n neighbors', 'distance metric']), \n",
    "             err_style=None, ax=ax)"
   ]
  },
  {
   "cell_type": "code",
   "execution_count": 5,
   "metadata": {},
   "outputs": [
    {
     "data": {
      "text/html": [
       "<div>\n",
       "<style scoped>\n",
       "    .dataframe tbody tr th:only-of-type {\n",
       "        vertical-align: middle;\n",
       "    }\n",
       "\n",
       "    .dataframe tbody tr th {\n",
       "        vertical-align: top;\n",
       "    }\n",
       "\n",
       "    .dataframe thead th {\n",
       "        text-align: right;\n",
       "    }\n",
       "</style>\n",
       "<table border=\"1\" class=\"dataframe\">\n",
       "  <thead>\n",
       "    <tr style=\"text-align: right;\">\n",
       "      <th></th>\n",
       "      <th>n neighbors</th>\n",
       "      <th>distance metric</th>\n",
       "      <th>validation accuracy (validation set)</th>\n",
       "      <th>validation accuracy (training set)</th>\n",
       "    </tr>\n",
       "  </thead>\n",
       "  <tbody>\n",
       "    <tr>\n",
       "      <th>15</th>\n",
       "      <td>36</td>\n",
       "      <td>2</td>\n",
       "      <td>0.857143</td>\n",
       "      <td>0.775244</td>\n",
       "    </tr>\n",
       "  </tbody>\n",
       "</table>\n",
       "</div>"
      ],
      "text/plain": [
       "    n neighbors  distance metric  validation accuracy (validation set)  \\\n",
       "15           36                2                              0.857143   \n",
       "\n",
       "    validation accuracy (training set)  \n",
       "15                            0.775244  "
      ]
     },
     "execution_count": 5,
     "metadata": {},
     "output_type": "execute_result"
    }
   ],
   "source": [
    "# The best configuration:\n",
    "scores_df.sort_values(by='validation accuracy (validation set)', ascending=False).head(1)"
   ]
  },
  {
   "cell_type": "code",
   "execution_count": 6,
   "metadata": {},
   "outputs": [],
   "source": [
    "top_n= scores_df.sort_values(by='validation accuracy (validation set)', ascending=False).head(1)\n",
    "top_p =  int(top_n.iloc[0]['distance metric'])\n",
    "top_n =  int(top_n.iloc[0]['n neighbors'])\n"
   ]
  },
  {
   "cell_type": "markdown",
   "metadata": {},
   "source": [
    "### The validation accuracy seems to grow as the train validation decline. This migh happens since the sample of data is to small and the validation set isn't representing very well the train set. <br> We can use a crossvalidation with K-fold of 5 and see if this changes"
   ]
  },
  {
   "cell_type": "code",
   "execution_count": 7,
   "metadata": {},
   "outputs": [
    {
     "name": "stderr",
     "output_type": "stream",
     "text": [
      "/Users/pancho/opt/anaconda3/envs/capstone-project/lib/python3.7/site-packages/sklearn/model_selection/_search.py:814: DeprecationWarning: The default of the `iid` parameter will change from True to False in version 0.22 and will be removed in 0.24. This will change numeric results when test-set sizes are unequal.\n",
      "  DeprecationWarning)\n"
     ]
    },
    {
     "data": {
      "text/html": [
       "<div>\n",
       "<style scoped>\n",
       "    .dataframe tbody tr th:only-of-type {\n",
       "        vertical-align: middle;\n",
       "    }\n",
       "\n",
       "    .dataframe tbody tr th {\n",
       "        vertical-align: top;\n",
       "    }\n",
       "\n",
       "    .dataframe thead th {\n",
       "        text-align: right;\n",
       "    }\n",
       "</style>\n",
       "<table border=\"1\" class=\"dataframe\">\n",
       "  <thead>\n",
       "    <tr style=\"text-align: right;\">\n",
       "      <th></th>\n",
       "      <th>n_neighbors</th>\n",
       "      <th>distance metric</th>\n",
       "      <th>mean</th>\n",
       "      <th>std</th>\n",
       "    </tr>\n",
       "  </thead>\n",
       "  <tbody>\n",
       "    <tr>\n",
       "      <th>5</th>\n",
       "      <td>11</td>\n",
       "      <td>2</td>\n",
       "      <td>0.812865</td>\n",
       "      <td>0.027419</td>\n",
       "    </tr>\n",
       "    <tr>\n",
       "      <th>3</th>\n",
       "      <td>6</td>\n",
       "      <td>2</td>\n",
       "      <td>0.804094</td>\n",
       "      <td>0.025148</td>\n",
       "    </tr>\n",
       "    <tr>\n",
       "      <th>7</th>\n",
       "      <td>16</td>\n",
       "      <td>2</td>\n",
       "      <td>0.798246</td>\n",
       "      <td>0.023084</td>\n",
       "    </tr>\n",
       "    <tr>\n",
       "      <th>2</th>\n",
       "      <td>6</td>\n",
       "      <td>1</td>\n",
       "      <td>0.789474</td>\n",
       "      <td>0.054093</td>\n",
       "    </tr>\n",
       "    <tr>\n",
       "      <th>4</th>\n",
       "      <td>11</td>\n",
       "      <td>1</td>\n",
       "      <td>0.786550</td>\n",
       "      <td>0.032371</td>\n",
       "    </tr>\n",
       "    <tr>\n",
       "      <th>6</th>\n",
       "      <td>16</td>\n",
       "      <td>1</td>\n",
       "      <td>0.786550</td>\n",
       "      <td>0.031463</td>\n",
       "    </tr>\n",
       "    <tr>\n",
       "      <th>13</th>\n",
       "      <td>31</td>\n",
       "      <td>2</td>\n",
       "      <td>0.780702</td>\n",
       "      <td>0.042524</td>\n",
       "    </tr>\n",
       "    <tr>\n",
       "      <th>9</th>\n",
       "      <td>21</td>\n",
       "      <td>2</td>\n",
       "      <td>0.780702</td>\n",
       "      <td>0.022613</td>\n",
       "    </tr>\n",
       "    <tr>\n",
       "      <th>8</th>\n",
       "      <td>21</td>\n",
       "      <td>1</td>\n",
       "      <td>0.777778</td>\n",
       "      <td>0.027346</td>\n",
       "    </tr>\n",
       "    <tr>\n",
       "      <th>1</th>\n",
       "      <td>1</td>\n",
       "      <td>2</td>\n",
       "      <td>0.777778</td>\n",
       "      <td>0.054312</td>\n",
       "    </tr>\n",
       "  </tbody>\n",
       "</table>\n",
       "</div>"
      ],
      "text/plain": [
       "   n_neighbors distance metric      mean       std\n",
       "5           11               2  0.812865  0.027419\n",
       "3            6               2  0.804094  0.025148\n",
       "7           16               2  0.798246  0.023084\n",
       "2            6               1  0.789474  0.054093\n",
       "4           11               1  0.786550  0.032371\n",
       "6           16               1  0.786550  0.031463\n",
       "13          31               2  0.780702  0.042524\n",
       "9           21               2  0.780702  0.022613\n",
       "8           21               1  0.777778  0.027346\n",
       "1            1               2  0.777778  0.054312"
      ]
     },
     "execution_count": 7,
     "metadata": {},
     "output_type": "execute_result"
    }
   ],
   "source": [
    "from sklearn.model_selection import ParameterGrid\n",
    "from sklearn.model_selection import GridSearchCV\n",
    "from sklearn.model_selection import StratifiedKFold\n",
    "\n",
    "#Split in train and test\n",
    "f_tr, f_te, c_tr, c_te = train_test_split(\n",
    "    features, spec, test_size=0.3, stratify=spec, random_state=1)\n",
    "\n",
    "# Create k-fold object\n",
    "kfold = StratifiedKFold(n_splits=5)\n",
    "\n",
    "k_pipe = Pipeline([\n",
    "    ('scaler', MinMaxScaler()),\n",
    "    ('knn', KNeighborsClassifier())\n",
    "])\n",
    "\n",
    "# Define the set of values we will iterate\n",
    "k_values = np.arange(1, 100,5) \n",
    "d_types = [1,2] # L1 and L2 distance\n",
    "\n",
    "\n",
    "grid_knn = GridSearchCV(k_pipe, [{\n",
    "    'knn__n_neighbors': k_values,\n",
    "    'knn__p': d_types\n",
    "}], cv=kfold)\n",
    "\n",
    "\n",
    "grid_knn.fit(f_tr, c_tr)\n",
    "\n",
    "# Collect results in a DataFrame\n",
    "knn_crossvalidated = pd.DataFrame.from_items([\n",
    "    ('n_neighbors', grid_knn.cv_results_['param_knn__n_neighbors']),\n",
    "    ('distance metric', grid_knn.cv_results_['param_knn__p']),\n",
    "    ('mean', grid_knn.cv_results_['mean_test_score']),\n",
    "    ('std', grid_knn.cv_results_['std_test_score'])\n",
    "])\n",
    "knn_crossvalidated.sort_values(by='mean', ascending=False).head(10)"
   ]
  },
  {
   "cell_type": "code",
   "execution_count": 8,
   "metadata": {},
   "outputs": [],
   "source": [
    "top_n= knn_crossvalidated.sort_values(by='mean', ascending=False).head(1)\n",
    "top_p =  int(top_n.iloc[0]['distance metric'])\n",
    "top_n =  int(top_n.iloc[0]['n_neighbors'])"
   ]
  },
  {
   "cell_type": "code",
   "execution_count": 9,
   "metadata": {},
   "outputs": [
    {
     "data": {
      "text/plain": [
       "<matplotlib.axes._subplots.AxesSubplot at 0x1a1c9c7590>"
      ]
     },
     "execution_count": 9,
     "metadata": {},
     "output_type": "execute_result"
    },
    {
     "data": {
      "image/png": "[encoded data removed]",
      "text/plain": [
       "<Figure size 504x504 with 1 Axes>"
      ]
     },
     "metadata": {
      "needs_background": "light"
     },
     "output_type": "display_data"
    }
   ],
   "source": [
    "knn_crossvalidated['distance metric'] = knn_crossvalidated['distance metric'].replace({1:'d:1', 2:'d:2'})\n",
    "\n",
    "fig, ax = plt.subplots(1,1, figsize=(7,7))\n",
    "sns.lineplot(x='n_neighbors', y='mean',\n",
    "             hue='distance metric', data = knn_crossvalidated, \n",
    "             err_style=None, ax=ax)"
   ]
  },
  {
   "cell_type": "markdown",
   "metadata": {},
   "source": [
    "### With cross-validation we reduced the problem and we have a curve that reduces the mean as the n of neighbors increases"
   ]
  },
  {
   "cell_type": "markdown",
   "metadata": {},
   "source": [
    "## Now we use the whole train data set and Test"
   ]
  },
  {
   "cell_type": "code",
   "execution_count": 20,
   "metadata": {},
   "outputs": [
    {
     "name": "stdout",
     "output_type": "stream",
     "text": [
      "k-NN Accuracy (Test set): 83.673%\n"
     ]
    }
   ],
   "source": [
    "f_tr, f_te, c_tr, c_te = train_test_split(\n",
    "    features, spec, test_size=0.3, stratify=spec, random_state=1)\n",
    "\n",
    "pipe = Pipeline([\n",
    "    ('scaler', MinMaxScaler()),\n",
    "    ('knn', KNeighborsClassifier(n_neighbors = top_n, p=top_p))\n",
    "])\n",
    "\n",
    "# Fit to train data\n",
    "pipe.fit(f_tr, c_tr)\n",
    "\n",
    "# Evaluate on test set\n",
    "accuracy = pipe.score(f_te, c_te)\n",
    "print('k-NN Accuracy (Test set): {:.3f}%'.format(accuracy * 100))"
   ]
  }
 ],
 "metadata": {
  "kernelspec": {
   "display_name": "Python 3",
   "language": "python",
   "name": "python3"
  },
  "language_info": {
   "codemirror_mode": {
    "name": "ipython",
    "version": 3
   },
   "file_extension": ".py",
   "mimetype": "text/x-python",
   "name": "python",
   "nbconvert_exporter": "python",
   "pygments_lexer": "ipython3",
   "version": "3.7.4"
  }
 },
 "nbformat": 4,
 "nbformat_minor": 4
}
