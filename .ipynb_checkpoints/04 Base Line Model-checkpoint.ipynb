{
 "cells": [
  {
   "cell_type": "code",
   "execution_count": 1,
   "metadata": {},
   "outputs": [],
   "source": [
    "import numpy as np\n",
    "import pandas as pd\n",
    "import warnings\n",
    "warnings.filterwarnings('ignore')\n",
    "\n",
    "from sklearn.model_selection import train_test_split\n",
    "from sklearn.pipeline import Pipeline\n",
    "from sklearn.preprocessing import StandardScaler\n",
    "from sklearn.preprocessing import MinMaxScaler"
   ]
  },
  {
   "cell_type": "markdown",
   "metadata": {},
   "source": [
    "## Load the Data and split in Train and Test Datasets"
   ]
  },
  {
   "cell_type": "code",
   "execution_count": 2,
   "metadata": {},
   "outputs": [],
   "source": [
    "df_final = pd.read_excel('Final Dataset.xlsx', sheet_name='data')\n",
    "\n",
    "features = df_final.iloc[:,2:9]\n",
    "img_name = df_final.iloc[:,1:2]\n",
    "\n",
    "spec = df_final.iloc[:,0:1]\n",
    "spec = spec.replace({'in-spec':1, 'out-of-spec':0})\n",
    "\n",
    "\n",
    "f_tr, f_te, c_tr, c_te = train_test_split(\n",
    "    features, spec, test_size=0.3, stratify=spec, random_state=1)\n"
   ]
  },
  {
   "cell_type": "markdown",
   "metadata": {},
   "source": [
    "# Baseline Model: \"Most Frequent\""
   ]
  },
  {
   "cell_type": "code",
   "execution_count": 3,
   "metadata": {},
   "outputs": [
    {
     "name": "stdout",
     "output_type": "stream",
     "text": [
      "Accuracy of Baseline Model (Most Frequent): 55.10%\n"
     ]
    }
   ],
   "source": [
    "from sklearn.dummy import DummyClassifier\n",
    "\n",
    "pipe_base_classifier= Pipeline([\n",
    "    ('scaler', MinMaxScaler()),\n",
    "    ('DummyClassifier', DummyClassifier(strategy=\"most_frequent\")\n",
    "    )])\n",
    "\n",
    "# Fit to train data\n",
    "pipe_base_classifier.fit(f_tr, c_tr)\n",
    "\n",
    "# Evaluate on test set\n",
    "accuracy = pipe_base_classifier.score(f_te, c_te)\n",
    "\n",
    "print('Accuracy of Baseline Model (Most Frequent): {:.2f}%'.format(accuracy * 100))"
   ]
  }
 ],
 "metadata": {
  "kernelspec": {
   "display_name": "Python 3",
   "language": "python",
   "name": "python3"
  },
  "language_info": {
   "codemirror_mode": {
    "name": "ipython",
    "version": 3
   },
   "file_extension": ".py",
   "mimetype": "text/x-python",
   "name": "python",
   "nbconvert_exporter": "python",
   "pygments_lexer": "ipython3",
   "version": "3.7.5"
  }
 },
 "nbformat": 4,
 "nbformat_minor": 4
}
